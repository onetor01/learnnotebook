{
 "cells": [
  {
   "cell_type": "markdown",
   "metadata": {},
   "source": [
    "NumPy 中包含了一些处理数组的常用方法，大致可分为以下几类：\n",
    "\n",
    "数组变维操作\n",
    "数组转置操作\n",
    "修改数组维度操作\n",
    "连接与分割数组操作\n",
    "\n",
    "下面分别对它们进行介绍。\n",
    "#### 数组变维操作\n",
    "数组变维操作\n",
    "|函数名称\t |函数介绍|\n",
    "|--|--|\n",
    "|reshape\t|    在不改变数组元素的条件下，修改数组的形状。|\n",
    "|flat\t   | 返回是一个迭代器，可以用 for 循环遍历其中的每一个元素。|\n",
    "|flatten\t|    以一维数组的形式返回一份数组的副本，对副本的操作不会影响到原数组。|\n",
    "|ravel\t  |  返回一个连续的扁平数组（即展开的一维数组），与 flatten不同，它返回的是数组视图（修改视图会影响原数组）。|\n",
    "\n",
    "reshape 在《NumPy ndarray对象》一节已经做了讲解，本节不再介绍。\n",
    "\n",
    "1) numpy.ndarray.flat\n",
    "numpy.ndarray.flat 返回一个数组迭代器"
   ]
  },
  {
   "cell_type": "code",
   "execution_count": null,
   "metadata": {},
   "outputs": [],
   "source": [
    "import numpy as np"
   ]
  },
  {
   "cell_type": "code",
   "execution_count": null,
   "metadata": {},
   "outputs": [
    {
     "data": {
      "text/plain": [
       "array([[0, 1, 2],\n",
       "       [3, 4, 5],\n",
       "       [6, 7, 8]])"
      ]
     },
     "execution_count": 2,
     "metadata": {},
     "output_type": "execute_result"
    }
   ],
   "source": [
    "# numpy.ndarray.flat 返回一个数组迭代器\n",
    "a = np.arange(9).reshape(3, 3)\n",
    "a"
   ]
  },
  {
   "cell_type": "code",
   "execution_count": null,
   "metadata": {},
   "outputs": [
    {
     "name": "stdout",
     "output_type": "stream",
     "text": [
      "[0 1 2]\n",
      "[3 4 5]\n",
      "[6 7 8]\n"
     ]
    }
   ],
   "source": [
    "for row in a:\n",
    "    print(row)"
   ]
  },
  {
   "cell_type": "code",
   "execution_count": null,
   "metadata": {},
   "outputs": [
    {
     "name": "stdout",
     "output_type": "stream",
     "text": [
      "0, 1, 2, 3, 4, 5, 6, 7, 8, "
     ]
    }
   ],
   "source": [
    "# 使用 flat\n",
    "for ele in a.flat:\n",
    "    print(ele, end=\", \")"
   ]
  },
  {
   "cell_type": "markdown",
   "metadata": {},
   "source": [
    "2) numpy.ndarray.flatten()\n",
    "\n",
    "numpy.ndarray.flatten 返回一份数组副本，对副本修改不会影响原始数组，其语法格式如下：\n",
    "\n",
    "ndarray.flatten(order='C')"
   ]
  },
  {
   "cell_type": "code",
   "execution_count": null,
   "metadata": {},
   "outputs": [
    {
     "data": {
      "text/plain": [
       "array([[0, 1, 2, 3],\n",
       "       [4, 5, 6, 7]])"
      ]
     },
     "execution_count": 5,
     "metadata": {},
     "output_type": "execute_result"
    }
   ],
   "source": [
    "a = np.arange(8).reshape(2, 4)\n",
    "a"
   ]
  },
  {
   "cell_type": "code",
   "execution_count": null,
   "metadata": {},
   "outputs": [
    {
     "data": {
      "text/plain": [
       "array([0, 1, 2, 3, 4, 5, 6, 7])"
      ]
     },
     "execution_count": 6,
     "metadata": {},
     "output_type": "execute_result"
    }
   ],
   "source": [
    "a.flatten()"
   ]
  },
  {
   "cell_type": "code",
   "execution_count": null,
   "metadata": {},
   "outputs": [
    {
     "data": {
      "text/plain": [
       "array([0, 1, 2, 3, 4, 5, 6, 7])"
      ]
     },
     "execution_count": 7,
     "metadata": {},
     "output_type": "execute_result"
    }
   ],
   "source": [
    "a.flatten(order=\"C\")"
   ]
  },
  {
   "cell_type": "code",
   "execution_count": null,
   "metadata": {},
   "outputs": [
    {
     "data": {
      "text/plain": [
       "array([0, 4, 1, 5, 2, 6, 3, 7])"
      ]
     },
     "execution_count": 8,
     "metadata": {},
     "output_type": "execute_result"
    }
   ],
   "source": [
    "a.flatten(order=\"F\")"
   ]
  },
  {
   "cell_type": "markdown",
   "metadata": {},
   "source": [
    "3) numpy.ravel()\n",
    "\n",
    "numpy.ravel() 将多维数组中的元素以一维数组的形式展开，该方法返回数组的视图（view），如果修改，则会影响原始数组。\n",
    "\n",
    "numpy.ravel(a, order='C')"
   ]
  },
  {
   "cell_type": "code",
   "execution_count": null,
   "metadata": {},
   "outputs": [
    {
     "data": {
      "text/plain": [
       "array([[0, 1, 2, 3],\n",
       "       [4, 5, 6, 7]])"
      ]
     },
     "execution_count": 9,
     "metadata": {},
     "output_type": "execute_result"
    }
   ],
   "source": [
    "a"
   ]
  },
  {
   "cell_type": "code",
   "execution_count": null,
   "metadata": {},
   "outputs": [
    {
     "data": {
      "text/plain": [
       "array([0, 1, 2, 3, 4, 5, 6, 7])"
      ]
     },
     "execution_count": 10,
     "metadata": {},
     "output_type": "execute_result"
    }
   ],
   "source": [
    "a.ravel()"
   ]
  },
  {
   "cell_type": "code",
   "execution_count": null,
   "metadata": {},
   "outputs": [
    {
     "data": {
      "text/plain": [
       "array([0, 4, 1, 5, 2, 6, 3, 7])"
      ]
     },
     "execution_count": 11,
     "metadata": {},
     "output_type": "execute_result"
    }
   ],
   "source": [
    "a.ravel(order=\"F\")"
   ]
  },
  {
   "cell_type": "markdown",
   "metadata": {},
   "source": [
    "#### 数组转置操作\n",
    "数组转置操作\n",
    "|函数名称\t    | 说明|\n",
    "|--|--|\n",
    "|transpose\t    |将数组的维度值进行对换，比如二维数组维度(2,4)使用该方法后为(4,2)。|\n",
    "|ndarray.T\t    |与 transpose 方法相同。|\n",
    "|rollaxis\t    |沿着指定的轴向后滚动至规定的位置。|\n",
    "|swapaxes\t    |对数组的轴进行对换。|\n",
    "1) numpy.transpose()\n",
    "\n",
    "numpy.transpose() 用于对换多维数组的维度，比如二维数组使用此方法可以实现矩阵转置，语法格式如下：\n",
    "\n",
    "numpy.transpose(arr, axes)\n",
    "\n",
    "参数说明如下：\n",
    "- arr：要操作的数组\n",
    "- axes：可选参数，元组或者整数列表，将会按照该参数进行转置。\n"
   ]
  },
  {
   "cell_type": "code",
   "execution_count": null,
   "metadata": {},
   "outputs": [
    {
     "data": {
      "text/plain": [
       "array([[ 0,  1,  2,  3],\n",
       "       [ 4,  5,  6,  7],\n",
       "       [ 8,  9, 10, 11]])"
      ]
     },
     "execution_count": 13,
     "metadata": {},
     "output_type": "execute_result"
    }
   ],
   "source": [
    "a = np.arange(12).reshape(3, 4)\n",
    "a"
   ]
  },
  {
   "cell_type": "code",
   "execution_count": null,
   "metadata": {},
   "outputs": [
    {
     "data": {
      "text/plain": [
       "array([[ 0,  4,  8],\n",
       "       [ 1,  5,  9],\n",
       "       [ 2,  6, 10],\n",
       "       [ 3,  7, 11]])"
      ]
     },
     "execution_count": 14,
     "metadata": {},
     "output_type": "execute_result"
    }
   ],
   "source": [
    "np.transpose(a)  # ndarray.T 的使用方法与其类似"
   ]
  },
  {
   "cell_type": "markdown",
   "metadata": {},
   "source": [
    "2) numpy.rollaxis()\n",
    "\n",
    "该方法表示沿着指定的轴，向后滚动至一个特定位置，格式如下：\n",
    "\n",
    "numpy.rollaxis(arr, axis, start)\n",
    "\n",
    "参数说明：\n",
    "- arr：要传入的数组；\n",
    "- axis：沿着哪条轴向后滚动，其它轴的相对位置不会改变；\n",
    "- start：默认以 0 轴开始，可以根据数组维度调整它的值。\n",
    "3) numpy.swapaxes()\n",
    "\n",
    "该方法用于交换数组的两个轴，其语法格式如下：\n",
    "numpy.swapaxes(arr, axis1, axis2) "
   ]
  },
  {
   "cell_type": "code",
   "execution_count": null,
   "metadata": {},
   "outputs": [
    {
     "data": {
      "text/plain": [
       "array([[[ 0,  1,  2],\n",
       "        [ 3,  4,  5],\n",
       "        [ 6,  7,  8]],\n",
       "\n",
       "       [[ 9, 10, 11],\n",
       "        [12, 13, 14],\n",
       "        [15, 16, 17]],\n",
       "\n",
       "       [[18, 19, 20],\n",
       "        [21, 22, 23],\n",
       "        [24, 25, 26]]])"
      ]
     },
     "execution_count": 15,
     "metadata": {},
     "output_type": "execute_result"
    }
   ],
   "source": [
    "a = np.arange(27).reshape(3, 3, 3)\n",
    "a"
   ]
  },
  {
   "cell_type": "code",
   "execution_count": null,
   "metadata": {},
   "outputs": [
    {
     "data": {
      "text/plain": [
       "array([[[ 0,  9, 18],\n",
       "        [ 3, 12, 21],\n",
       "        [ 6, 15, 24]],\n",
       "\n",
       "       [[ 1, 10, 19],\n",
       "        [ 4, 13, 22],\n",
       "        [ 7, 16, 25]],\n",
       "\n",
       "       [[ 2, 11, 20],\n",
       "        [ 5, 14, 23],\n",
       "        [ 8, 17, 26]]])"
      ]
     },
     "execution_count": 16,
     "metadata": {},
     "output_type": "execute_result"
    }
   ],
   "source": [
    "# 对换0轴和2轴\n",
    "np.swapaxes(a, 2, 0)"
   ]
  },
  {
   "cell_type": "markdown",
   "metadata": {},
   "source": [
    "#### 修改数组维度操作\n",
    "修改数组维度的操作，主要有以下方法：\n",
    "\n",
    "数组维度修改\n",
    "|函数名称\t    | 描述说明|\n",
    "|--|--|\n",
    "|broadcast\t    |生成一个模拟广播的对象。|\n",
    "|broadcast_to\t|将数组广播为新的形状。|\n",
    "|expand_dims\t    |扩展数组的形状。|\n",
    "|squeeze\t        |从数组的形状中删除一维项。|\n",
    "1) numpy.broadcast()\n",
    "\n",
    "返回值是数组被广播后的对象，该函数以两个数组作为输入参数"
   ]
  },
  {
   "cell_type": "code",
   "execution_count": null,
   "metadata": {},
   "outputs": [],
   "source": [
    "a = np.array([[1], [2], [3]])\n",
    "b = np.array()"
   ]
  }
 ],
 "metadata": {
  "kernelspec": {
   "display_name": "base",
   "language": "python",
   "name": "python3"
  },
  "language_info": {
   "codemirror_mode": {
    "name": "ipython",
    "version": 3
   },
   "file_extension": ".py",
   "mimetype": "text/x-python",
   "name": "python",
   "nbconvert_exporter": "python",
   "pygments_lexer": "ipython3",
   "version": "3.10.9"
  }
 },
 "nbformat": 4,
 "nbformat_minor": 2
}
