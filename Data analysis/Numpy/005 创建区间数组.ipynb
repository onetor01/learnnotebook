{
 "cells": [
  {
   "cell_type": "markdown",
   "metadata": {},
   "source": [
    "所谓区间数组，是指数组元素的取值位于某个范围内，并且数组元素之间可能会呈现某种规律，比如等比数列、递增、递减等。\n",
    "#### 1. numpy.arange()\n",
    "在 NumPy 中，您可以使用 arange() 来创建给定数值范围的数组，语法格式如下：\n",
    "numpy.arange(start, stop, step, dtype)\n",
    "\n",
    "参数说明见下表：\n",
    "参数描述\n",
    "|参数名称\t |参数说明|\n",
    "|:--:|:--:|\n",
    "|start\t|    起始值，默认是 0。|\n",
    "|stop\t |   终止值，注意生成的数组元素值不包含终止值。|\n",
    "|step\t |   步长，默认为 1。|\n",
    "|dtype\t|    可选参数，指定 ndarray 数组的数据类型。|\n"
   ]
  },
  {
   "cell_type": "code",
   "execution_count": null,
   "metadata": {},
   "outputs": [],
   "source": [
    "import numpy as np"
   ]
  },
  {
   "cell_type": "code",
   "execution_count": null,
   "metadata": {},
   "outputs": [
    {
     "data": {
      "text/plain": [
       "array([0, 1, 2, 3, 4, 5, 6, 7])"
      ]
     },
     "execution_count": 2,
     "metadata": {},
     "output_type": "execute_result"
    }
   ],
   "source": [
    "# 根据start与stop指定的范围以及step步长值，生成一个 ndarray 数组\n",
    "np.arange(8)"
   ]
  },
  {
   "cell_type": "code",
   "execution_count": null,
   "metadata": {},
   "outputs": [
    {
     "data": {
      "text/plain": [
       "array([1, 3, 5, 7, 9])"
      ]
     },
     "execution_count": 4,
     "metadata": {},
     "output_type": "execute_result"
    }
   ],
   "source": [
    "# 设置 start 、stop 值以及步长，最终输出 0-10 中的奇数\n",
    "x = np.arange(1, 10, 2)\n",
    "x"
   ]
  },
  {
   "cell_type": "markdown",
   "metadata": {},
   "source": [
    "#### 2. numpy.linspace()\n",
    "表示在指定的数值区间内，返回均匀间隔的一维等差数组，默认均分 50 份，语法格式如下：\n",
    "np.linspace(start, stop, num=50, endpoint=True, retstep=False, dtype=None)\n",
    "\n",
    "参数说明如下：\n",
    "- start：代表数值区间的起始值；\n",
    "- stop：代表数值区间的终止值；\n",
    "- num：表示数值区间内要生成多少个均匀的样本。默认值为 50；\n",
    "- endpoint：默认为 True，表示数列包含 stop 终止值，反之不包含；\n",
    "- retstep：默认为 True，表示生成的数组中会显示公差项，反之不显示；\n",
    "- dtype：代表数组元素值的数据类型。\n"
   ]
  },
  {
   "cell_type": "code",
   "execution_count": null,
   "metadata": {},
   "outputs": [
    {
     "data": {
      "text/plain": [
       "array([ 1.,  2.,  3.,  4.,  5.,  6.,  7.,  8.,  9., 10.])"
      ]
     },
     "execution_count": 5,
     "metadata": {},
     "output_type": "execute_result"
    }
   ],
   "source": [
    "np.linspace(1, 10, 10)"
   ]
  },
  {
   "cell_type": "code",
   "execution_count": null,
   "metadata": {},
   "outputs": [
    {
     "data": {
      "text/plain": [
       "array([10., 12., 14., 16., 18.])"
      ]
     },
     "execution_count": 3,
     "metadata": {},
     "output_type": "execute_result"
    }
   ],
   "source": [
    "np.linspace(10, 20, 5, endpoint=False)  # endpoint 为 Fasle 时，此时不包含终止值"
   ]
  },
  {
   "cell_type": "code",
   "execution_count": null,
   "metadata": {},
   "outputs": [
    {
     "data": {
      "text/plain": [
       "(array([1.  , 1.25, 1.5 , 1.75, 2.  ]), 0.25)"
      ]
     },
     "execution_count": 4,
     "metadata": {},
     "output_type": "execute_result"
    }
   ],
   "source": [
    "np.linspace(1, 2, 5, retstep=True)  # 生成的数组中显示公差项"
   ]
  },
  {
   "cell_type": "code",
   "execution_count": null,
   "metadata": {},
   "outputs": [
    {
     "data": {
      "text/plain": [
       "array([1.  , 1.25, 1.5 , 1.75, 2.  ])"
      ]
     },
     "execution_count": 5,
     "metadata": {},
     "output_type": "execute_result"
    }
   ],
   "source": [
    "np.linspace(1, 2, 5, retstep=False)"
   ]
  },
  {
   "cell_type": "markdown",
   "metadata": {},
   "source": [
    "#### 3. numpy.logspace\n",
    "该函数同样返回一个 ndarray 数组，它用于创建等比数组，语法格式如下：\n",
    "np.logspace(start, stop, num=50, endpoint=True, base=10.0, dtype=None)\n",
    "\n",
    "其中 base 代表对数函数的底数，默认为 10，参数详细说明见下表：\n",
    "\n",
    "参数说明\n",
    "|参数名称\t| 说明描述|\n",
    "|:--:|:--:|\n",
    "|start\t    |序列的起始值：base**start。|\n",
    "|stop\t    |序列的终止值：base**stop。|\n",
    "|num\t    |数值范围区间内样本数量，默认为 50。|\n",
    "|endpoint\t|默认为 True 包含终止值，反之不包含。|\n",
    "|base\t    |对数函数的 log 底数，默认为10。|\n",
    "|dtype\t    |可选参数，指定 ndarray 数组的数据类型。|"
   ]
  },
  {
   "cell_type": "code",
   "execution_count": null,
   "metadata": {},
   "outputs": [
    {
     "data": {
      "text/plain": [
       "array([ 10.        ,  12.91549665,  16.68100537,  21.5443469 ,\n",
       "        27.82559402,  35.93813664,  46.41588834,  59.94842503,\n",
       "        77.42636827, 100.        ])"
      ]
     },
     "execution_count": 6,
     "metadata": {},
     "output_type": "execute_result"
    }
   ],
   "source": [
    "np.logspace(1.0, 2.0, num=10)"
   ]
  },
  {
   "cell_type": "code",
   "execution_count": null,
   "metadata": {},
   "outputs": [
    {
     "data": {
      "text/plain": [
       "array([   2.,    4.,    8.,   16.,   32.,   64.,  128.,  256.,  512.,\n",
       "       1024.])"
      ]
     },
     "execution_count": 8,
     "metadata": {},
     "output_type": "execute_result"
    }
   ],
   "source": [
    "np.logspace(1, 10, num=10, base=2)"
   ]
  },
  {
   "cell_type": "code",
   "execution_count": null,
   "metadata": {},
   "outputs": [],
   "source": []
  }
 ],
 "metadata": {
  "kernelspec": {
   "display_name": "base",
   "language": "python",
   "name": "python3"
  },
  "language_info": {
   "codemirror_mode": {
    "name": "ipython",
    "version": 3
   },
   "file_extension": ".py",
   "mimetype": "text/x-python",
   "name": "python",
   "nbconvert_exporter": "python",
   "pygments_lexer": "ipython3",
   "version": "3.10.9"
  }
 },
 "nbformat": 4,
 "nbformat_minor": 2
}
