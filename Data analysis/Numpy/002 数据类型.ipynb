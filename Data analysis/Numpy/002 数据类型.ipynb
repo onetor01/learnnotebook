{
 "cells": [
  {
   "cell_type": "markdown",
   "metadata": {},
   "source": [
    "|序号|数据类型\t| 语言描述|\n",
    "|:--:|:--:|:--:|\n",
    "|1\t|bool_\t    |布尔型数据类型（True 或者 False）|\n",
    "|2\t|int_\t    |默认整数类型，类似于 C 语言中的 long，取值为 int32 或 int64|\n",
    "|3\t|intc\t    |和 C 语言的 int 类型一样，一般是 int32 或 int 64|\n",
    "|4\t|intp\t    |用于索引的整数类型（类似于 C 的 ssize_t，通常为 int32 或 int64）|\n",
    "|5\t|int8\t    |代表与1字节相同的8位整数。值的范围是-128到127。|\n",
    "|6\t|int16\t    |代表 2 字节（16位）的整数。范围是-32768至32767。|\n",
    "|7\t|int32\t    |代表 4 字节（32位）整数。范围是-2147483648至2147483647。|\n",
    "|8\t|int64\t    |表示 8 字节（64位）整数。范围是-9223372036854775808至9223372036854775807。|\n",
    "|9\t|uint8\t    |代表1字节（8位）无符号整数。|\n",
    "|10\t|uint16\t    |2 字节（16位）无符号整数。|\n",
    "|11\t|uint32\t    |4 字节（32位）的无符号整数。|\n",
    "|12\t|uint64\t    |8 字节（64位）的无符号整数。|\n",
    "|13\t|float_\t    |float64 类型的简写。|\n",
    "|14\t|float16\t|半精度浮点数，包括：1 个符号位，5 个指数位，10个尾数位。|\n",
    "|15\t|float32\t|单精度浮点数，包括：1 个符号位，8 个指数位，23个尾数位。|\n",
    "|16\t|float64\t|双精度浮点数，包括：1 个符号位，11 个指数位，52个尾数位。|\n",
    "|17\t|complex_\t|复数类型，与 complex128 类型相同。|\n",
    "|18\t|complex64\t|表示实部和虚部共享 32 位的复数。|\n",
    "|19\t|complex128\t|表示实部和虚部共享 64 位的复数。|\n",
    "|20\t|str_\t    |表示字符串类型|\n",
    "|21\t|string_\t|表示字节串类型|"
   ]
  },
  {
   "cell_type": "markdown",
   "metadata": {},
   "source": [
    "### 数据类型对象\n",
    "数据类型对象（Data Type Object）又称 dtype 对象，主要用来描述数组元素的数据类型、大小以及字节顺序。同时，它也可以用来创建结构化数据。比如常见的 int64、float32 都是 dtype 对象的实例"
   ]
  },
  {
   "cell_type": "code",
   "execution_count": 1,
   "metadata": {},
   "outputs": [],
   "source": [
    "import numpy as np"
   ]
  },
  {
   "cell_type": "code",
   "execution_count": 2,
   "metadata": {},
   "outputs": [
    {
     "data": {
      "text/plain": [
       "dtype('int64')"
      ]
     },
     "execution_count": 2,
     "metadata": {},
     "output_type": "execute_result"
    }
   ],
   "source": [
    "np.dtype(np.int64)"
   ]
  },
  {
   "cell_type": "markdown",
   "metadata": {},
   "source": [
    "### 数据类型标识码\n",
    "NumPy 中每种数据类型都有一个唯一标识的字符码，如下所示：\n",
    "\n",
    "数据类型标识码\n",
    "|字符\t|对应类型|\n",
    "|:--:|:--:|\n",
    "|b\t    |代表布尔型|\n",
    "|i\t    |带符号整型|\n",
    "|u\t    |无符号整型|\n",
    "|f\t    |浮点型|\n",
    "|c\t    |复数浮点型|\n",
    "|m\t    |时间间隔（timedelta）|\n",
    "|M\t    |datatime（日期时间）|\n",
    "|O\t    |Python对象|\n",
    "|S,a\t|字节串（S）与字符串（a）|\n",
    "|U\t    |Unicode|\n",
    "|V\t    |原始数据（void）|\n"
   ]
  },
  {
   "cell_type": "code",
   "execution_count": null,
   "metadata": {},
   "outputs": [
    {
     "data": {
      "text/plain": [
       "dtype([('score', 'i1')])"
      ]
     },
     "execution_count": 3,
     "metadata": {},
     "output_type": "execute_result"
    }
   ],
   "source": [
    "np.dtype([(\"score\", \"i1\")])  # 创建一个数据类型"
   ]
  },
  {
   "cell_type": "code",
   "execution_count": null,
   "metadata": {},
   "outputs": [
    {
     "data": {
      "text/plain": [
       "(array([(55,), (75,), (85,)], dtype=[('score', 'i1')]),\n",
       " dtype([('score', 'i1')]),\n",
       " array([55, 75, 85], dtype=int8))"
      ]
     },
     "execution_count": 4,
     "metadata": {},
     "output_type": "execute_result"
    }
   ],
   "source": [
    "dt = np.dtype([(\"score\", \"i1\")])  # #定义字段名score，以及数组数据类型i1\n",
    "a = np.array([(55,), (75,), (85,)], dtype=dt)\n",
    "a, a.dtype, a[\"score\"]"
   ]
  },
  {
   "cell_type": "markdown",
   "metadata": {},
   "source": [
    "### 定义结构化数据\n",
    "通常情况下，结构化数据使用字段的形式来描述某个对象的特征。以下示例描述一位老师的姓名、年龄、工资的特征，该结构化数据其包含以下字段：\n",
    "- str 字段：name\n",
    "- int 字段：age\n",
    "- float 字段：salary\n"
   ]
  },
  {
   "cell_type": "code",
   "execution_count": null,
   "metadata": {},
   "outputs": [
    {
     "data": {
      "text/plain": [
       "dtype([('name', 'S10'), ('age', '<i4'), ('salary', '<f4')])"
      ]
     },
     "execution_count": 6,
     "metadata": {},
     "output_type": "execute_result"
    }
   ],
   "source": [
    "teacher = np.dtype([(\"name\", \"S10\"), (\"age\", \"i4\"), (\"salary\", \"f4\")])\n",
    "teacher"
   ]
  },
  {
   "cell_type": "code",
   "execution_count": null,
   "metadata": {},
   "outputs": [
    {
     "data": {
      "text/plain": [
       "array([(b'ycs', 32, 6357.5), (b'jxe', 28, 6357.5)],\n",
       "      dtype=[('name', 'S10'), ('age', '<i4'), ('salary', '<f4')])"
      ]
     },
     "execution_count": 7,
     "metadata": {},
     "output_type": "execute_result"
    }
   ],
   "source": [
    "b = np.array([(\"ycs\", 32, 6357.50), (\"jxe\", 28, 6357.50)], dtype=teacher)\n",
    "b"
   ]
  },
  {
   "cell_type": "code",
   "execution_count": null,
   "metadata": {},
   "outputs": [],
   "source": []
  }
 ],
 "metadata": {
  "kernelspec": {
   "display_name": "base",
   "language": "python",
   "name": "python3"
  },
  "language_info": {
   "codemirror_mode": {
    "name": "ipython",
    "version": 3
   },
   "file_extension": ".py",
   "mimetype": "text/x-python",
   "name": "python",
   "nbconvert_exporter": "python",
   "pygments_lexer": "ipython3",
   "version": "3.10.9"
  }
 },
 "nbformat": 4,
 "nbformat_minor": 2
}
