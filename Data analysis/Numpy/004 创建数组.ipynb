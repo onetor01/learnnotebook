{
 "cells": [
  {
   "cell_type": "markdown",
   "metadata": {},
   "source": [
    "#### numpy.empty()\n",
    "numpy.empty() 创建未初始化的数组，可以指定创建数组的形状（shape）和数据类型（dtype）"
   ]
  },
  {
   "cell_type": "code",
   "execution_count": 1,
   "metadata": {},
   "outputs": [],
   "source": [
    "import numpy as np"
   ]
  },
  {
   "cell_type": "markdown",
   "metadata": {},
   "source": [
    "numpy.empty(shape, dtype = float, order = 'C')\n",
    "\n",
    "它接受以下参数：\n",
    "- shape：指定数组的形状；\n",
    "- dtype：数组元素的数据类型，默认值是值 float；\n",
    "- order：指数组元素在计算机内存中的储存顺序，默认顺序是“C”(行优先顺序)。\n"
   ]
  },
  {
   "cell_type": "code",
   "execution_count": null,
   "metadata": {},
   "outputs": [
    {
     "data": {
      "text/plain": [
       "array([[          0,           0],\n",
       "       [ -261145056,         468],\n",
       "       [          0, -2147483648]])"
      ]
     },
     "execution_count": 2,
     "metadata": {},
     "output_type": "execute_result"
    }
   ],
   "source": [
    "np.empty((3, 2), dtype=int)  # 数组带有随机值，没有实际意义 且empty并不是创建空数组"
   ]
  },
  {
   "cell_type": "markdown",
   "metadata": {},
   "source": [
    "#### numpy.zeros()\n",
    "该函数用来创建元素均为 0 的数组，同时还可以指定被数组的形状\n",
    "numpy. zeros(shape,dtype=float,order=\"C\")\n",
    "\n",
    "\n",
    "参数说明\n",
    "|参数名称\t|说明描述|\n",
    "|:--:|:--:|\n",
    "|shape|\t指定数组的形状大小。|\n",
    "|dtype|\t可选项，数组的数据类型|\n",
    "|order|\t“C”代表以行顺序存储，“F”则表示以列顺序存储|\n"
   ]
  },
  {
   "cell_type": "code",
   "execution_count": 3,
   "metadata": {},
   "outputs": [
    {
     "data": {
      "text/plain": [
       "array([0., 0., 0., 0., 0., 0.])"
      ]
     },
     "execution_count": 3,
     "metadata": {},
     "output_type": "execute_result"
    }
   ],
   "source": [
    "a = np.zeros(6)\n",
    "a"
   ]
  },
  {
   "cell_type": "code",
   "execution_count": 4,
   "metadata": {},
   "outputs": [
    {
     "data": {
      "text/plain": [
       "array([0.+0.j, 0.+0.j, 0.+0.j, 0.+0.j, 0.+0.j, 0.+0.j], dtype=complex64)"
      ]
     },
     "execution_count": 4,
     "metadata": {},
     "output_type": "execute_result"
    }
   ],
   "source": [
    "b = np.zeros(6, dtype=\"complex64\")\n",
    "b"
   ]
  },
  {
   "cell_type": "code",
   "execution_count": null,
   "metadata": {},
   "outputs": [
    {
     "data": {
      "text/plain": [
       "array([[(0, 0), (0, 0), (0, 0)],\n",
       "       [(0, 0), (0, 0), (0, 0)],\n",
       "       [(0, 0), (0, 0), (0, 0)]], dtype=[('x', '<i4'), ('y', '<i4')])"
      ]
     },
     "execution_count": 6,
     "metadata": {},
     "output_type": "execute_result"
    }
   ],
   "source": [
    "# 自定义类型\n",
    "c = np.zeros((3, 3), dtype=[(\"x\", \"i4\"), (\"y\", \"i4\")])\n",
    "c"
   ]
  },
  {
   "cell_type": "markdown",
   "metadata": {},
   "source": [
    "#### numpy.ones()\n",
    "返回指定形状大小与数据类型的新数组，并且新数组中每项元素均用 1 填充"
   ]
  },
  {
   "cell_type": "code",
   "execution_count": null,
   "metadata": {},
   "outputs": [
    {
     "data": {
      "text/plain": [
       "array([[1, 1],\n",
       "       [1, 1],\n",
       "       [1, 1]])"
      ]
     },
     "execution_count": 7,
     "metadata": {},
     "output_type": "execute_result"
    }
   ],
   "source": [
    "np.ones((3, 2), dtype=int)"
   ]
  },
  {
   "cell_type": "markdown",
   "metadata": {},
   "source": [
    "#### numpy.asarray()\n",
    "asarray() 与 array() 类似，但是它比 array() 更为简单。asarray() 能够将一个 Python 序列转化为 ndarray 对象，语法格式如下：\n",
    "numpy.asarray（sequence，dtype = None ，order = None ）\n",
    "\n",
    "它接受下列参数：\n",
    "- sequence：接受一个 Python 序列，可以是列表或者元组；\n",
    "- dtype：可选参数，数组的数据类型；\n",
    "- order：数组内存布局样式，可以设置为 C 或者 F，默认是 C。\n"
   ]
  },
  {
   "cell_type": "code",
   "execution_count": null,
   "metadata": {},
   "outputs": [
    {
     "data": {
      "text/plain": [
       "(array([1, 2, 3, 4, 5, 6, 7]), numpy.ndarray)"
      ]
     },
     "execution_count": 8,
     "metadata": {},
     "output_type": "execute_result"
    }
   ],
   "source": [
    "l = (1, 2, 3, 4, 5, 6, 7)\n",
    "a = np.asanyarray(l)\n",
    "a, type(a)"
   ]
  },
  {
   "cell_type": "code",
   "execution_count": null,
   "metadata": {},
   "outputs": [
    {
     "data": {
      "text/plain": [
       "(array([1, 2, 3, 4, 5, 6, 7]), numpy.ndarray)"
      ]
     },
     "execution_count": 9,
     "metadata": {},
     "output_type": "execute_result"
    }
   ],
   "source": [
    "l = [1, 2, 3, 4, 5, 6, 7]\n",
    "a = np.asanyarray(l)\n",
    "a, type(a)"
   ]
  },
  {
   "cell_type": "code",
   "execution_count": null,
   "metadata": {},
   "outputs": [
    {
     "name": "stderr",
     "output_type": "stream",
     "text": [
      "C:\\Users\\abner\\AppData\\Local\\Temp\\ipykernel_32808\\2203335303.py:2: VisibleDeprecationWarning: Creating an ndarray from ragged nested sequences (which is a list-or-tuple of lists-or-tuples-or ndarrays with different lengths or shapes) is deprecated. If you meant to do this, you must specify 'dtype=object' when creating the ndarray.\n",
      "  a = np.asanyarray(l)\n"
     ]
    },
    {
     "data": {
      "text/plain": [
       "(array([list([1, 2, 3, 4, 5, 6, 7]), list([8, 9])], dtype=object),\n",
       " numpy.ndarray)"
      ]
     },
     "execution_count": 10,
     "metadata": {},
     "output_type": "execute_result"
    }
   ],
   "source": [
    "l = [[1, 2, 3, 4, 5, 6, 7], [8, 9]]\n",
    "a = np.asanyarray(l)\n",
    "a, type(a)"
   ]
  },
  {
   "cell_type": "markdown",
   "metadata": {},
   "source": [
    "> 警告是因为 numpy 在处理不规则嵌套序列（ragged nested sequences）时，默认行为已经发生了变化。不规则嵌套序列是指包含不同长度或形状的列表或元组的列表。numpy 现在默认不再支持这种不规则嵌套序列，除非你显式地指定 dtype=object。\n",
    "\n",
    "> 要解决这个警告，可以在调用 np.asanyarray 时显式地指定 dtype=object。这样可以确保 numpy 将整个嵌套序列作为一个对象数组来处理，而不是尝试将其转换为多维数组。"
   ]
  },
  {
   "cell_type": "code",
   "execution_count": 11,
   "metadata": {},
   "outputs": [
    {
     "data": {
      "text/plain": [
       "(array([list([1, 2, 3, 4, 5, 6, 7]), list([8, 9])], dtype=object),\n",
       " numpy.ndarray)"
      ]
     },
     "execution_count": 11,
     "metadata": {},
     "output_type": "execute_result"
    }
   ],
   "source": [
    "l = [[1, 2, 3, 4, 5, 6, 7], [8, 9]]\n",
    "a = np.asanyarray(l, dtype=object)\n",
    "a, type(a)"
   ]
  },
  {
   "cell_type": "markdown",
   "metadata": {},
   "source": [
    "#### numpy.frombuffer()\n",
    "表示使用指定的缓冲区创建数组。下面给出了该函数的语法格式：\n",
    "\n",
    "`numpy.frombuffer(buffer, dtype = float, count = -1, offset = 0)`\n",
    "\n",
    "它的参数说明如下所示：\n",
    "\n",
    "- buffer：将任意对象转换为流的形式读入缓冲区；\n",
    "- dtype：返回数组的数据类型，默认是 float32；\n",
    "- count：要读取的数据数量，默认为 -1 表示读取所有数据；\n",
    "- offset：读取数据的起始位置，默认为 0。"
   ]
  },
  {
   "cell_type": "code",
   "execution_count": null,
   "metadata": {},
   "outputs": [
    {
     "data": {
      "text/plain": [
       "bytes"
      ]
     },
     "execution_count": 12,
     "metadata": {},
     "output_type": "execute_result"
    }
   ],
   "source": [
    "s = b\"hello world\"\n",
    "type(s)"
   ]
  },
  {
   "cell_type": "code",
   "execution_count": 13,
   "metadata": {},
   "outputs": [
    {
     "data": {
      "text/plain": [
       "(array([b'h', b'e', b'l', b'l', b'o', b' ', b'w', b'o', b'r', b'l', b'd'],\n",
       "       dtype='|S1'),\n",
       " numpy.ndarray)"
      ]
     },
     "execution_count": 13,
     "metadata": {},
     "output_type": "execute_result"
    }
   ],
   "source": [
    "a = np.frombuffer(s, dtype=\"S1\")\n",
    "a, type(a)"
   ]
  },
  {
   "cell_type": "markdown",
   "metadata": {},
   "source": [
    "#### numpy.fromiter()\n",
    "该方法可以把迭代对象转换为 ndarray 数组，其返回值是一个一维数组。\n",
    "numpy.fromiter(iterable, dtype, count = -1)\n",
    "\n",
    "参数说明如下：\n",
    "\n",
    "参数描述\n",
    "|参数名称\t| 描述说明|\n",
    "|:--:|:--:|\n",
    "|iterable\t|可迭代对象。|\n",
    "|dtype\t    |返回数组的数据类型。|\n",
    "|count\t    |读取的数据数量，默认为 -1，读取所有数据。|\n",
    "\n",
    "\n"
   ]
  },
  {
   "cell_type": "code",
   "execution_count": 14,
   "metadata": {},
   "outputs": [
    {
     "data": {
      "text/plain": [
       "array([0., 1., 2., 3., 4., 5.])"
      ]
     },
     "execution_count": 14,
     "metadata": {},
     "output_type": "execute_result"
    }
   ],
   "source": [
    "# 使用内置 range() 函数创建列表对象，然后使用迭代器创建 ndarray 对象\n",
    "ll = range(6)\n",
    "i = iter(ll)\n",
    "arr = np.fromiter(i, dtype=float)\n",
    "arr"
   ]
  },
  {
   "cell_type": "code",
   "execution_count": null,
   "metadata": {},
   "outputs": [],
   "source": []
  }
 ],
 "metadata": {
  "kernelspec": {
   "display_name": "base",
   "language": "python",
   "name": "python3"
  },
  "language_info": {
   "codemirror_mode": {
    "name": "ipython",
    "version": 3
   },
   "file_extension": ".py",
   "mimetype": "text/x-python",
   "name": "python",
   "nbconvert_exporter": "python",
   "pygments_lexer": "ipython3",
   "version": "3.10.9"
  }
 },
 "nbformat": 4,
 "nbformat_minor": 2
}
